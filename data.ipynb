{
 "cells": [
  {
   "cell_type": "code",
   "execution_count": 21,
   "metadata": {},
   "outputs": [],
   "source": [
    "import requests\n",
    "from bs4 import BeautifulSoup\n",
    "import time\n",
    "import pandas as pd"
   ]
  },
  {
   "cell_type": "code",
   "execution_count": 22,
   "metadata": {},
   "outputs": [
    {
     "data": {
      "text/plain": [
       "['A',\n",
       " 'B',\n",
       " 'C',\n",
       " 'D',\n",
       " 'E',\n",
       " 'F',\n",
       " 'G',\n",
       " 'H',\n",
       " 'I',\n",
       " 'J',\n",
       " 'K',\n",
       " 'L',\n",
       " 'M',\n",
       " 'N',\n",
       " 'O',\n",
       " 'P',\n",
       " 'Q',\n",
       " 'R',\n",
       " 'S',\n",
       " 'T',\n",
       " 'U',\n",
       " 'V',\n",
       " 'W',\n",
       " 'X',\n",
       " 'Y',\n",
       " 'Z']"
      ]
     },
     "execution_count": 22,
     "metadata": {},
     "output_type": "execute_result"
    }
   ],
   "source": [
    "alphabet = 'ABCDEFGHIJKLMNOPQRSTUVWXYZ'\n",
    "\n",
    "letter_list = list(alphabet)\n",
    "letter_list"
   ]
  },
  {
   "cell_type": "code",
   "execution_count": 24,
   "metadata": {},
   "outputs": [],
   "source": [
    "url_template = 'https://www.pro-football-reference.com/players/{}/'\n",
    "\n",
    "\n",
    "def get_WR(letter):\n",
    "    url = url_template.format(letter) # This formats the url by letter\n",
    "\n",
    "    response = requests.get(url)\n",
    "    time.sleep(8)\n",
    "\n",
    "    soup = BeautifulSoup(response.text, 'html.parser')\n",
    "\n",
    "    players = []\n",
    "    div_players = soup.find('div', class_=\"section_content\", id=\"div_players\")\n",
    "    \n",
    "    # Loop through p tags\n",
    "    for p in div_players.find_all('p'):\n",
    "        meta = p.get_text()\n",
    "        position = str(meta.split('(')[1].split(')')[0])\n",
    "        is_wr = 1 if 'WR' in position else 0\n",
    "        year_span = meta.split(')')[1].strip()\n",
    "        hyper_link = p.find('a')['href']\n",
    "        player_link = f\"'https://www.pro-football-reference.com{hyper_link}\"\n",
    "        if is_wr == 1:\n",
    "            players.append([meta, position, year_span, player_link])\n",
    "    df = pd.DataFrame(players, columns = ['meta', 'position', 'year_span', 'player_link'])\n",
    "    return df \n",
    "\n",
    "all_players = pd.concat([get_WR(letter) for letter in letter_list], ignore_index=True)\n",
    "all_players.to_csv(\"wide_receiver_links.csv\", index = False)\n"
   ]
  },
  {
   "cell_type": "code",
   "execution_count": null,
   "metadata": {},
   "outputs": [],
   "source": []
  }
 ],
 "metadata": {
  "kernelspec": {
   "display_name": "Python 3",
   "language": "python",
   "name": "python3"
  },
  "language_info": {
   "codemirror_mode": {
    "name": "ipython",
    "version": 3
   },
   "file_extension": ".py",
   "mimetype": "text/x-python",
   "name": "python",
   "nbconvert_exporter": "python",
   "pygments_lexer": "ipython3",
   "version": "3.11.5"
  },
  "orig_nbformat": 4
 },
 "nbformat": 4,
 "nbformat_minor": 2
}
